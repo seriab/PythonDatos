{
 "cells": [
  {
   "attachments": {},
   "cell_type": "markdown",
   "id": "929c8a03",
   "metadata": {},
   "source": [
    "En este proyecto de Python se realiza una serie de cálculos basados en los datos de una persona, tales como peso, altura, edad, género, nivel de actividad física, objetivos y país de residencia, para calcular su índice de masa corporal (IMC) y determinar su estado de salud (bajo peso, peso saludable o sobrepeso). Luego, utilizando la API de ChatGPT, se solicita una recomendación de menú semanal personalizado, que se basa en los datos de la persona y sus objetivos nutricionales. Finalmente, se exporta la recomendación de menú semanal en formato Excel para su fácil visualización."
   ]
  },
  {
   "attachments": {},
   "cell_type": "markdown",
   "id": "856fbf8e",
   "metadata": {},
   "source": [
    "# Calcular IMC\n",
    "Se utiliza ipywidgets para realizar la carga de los campos de una manera más interactiva."
   ]
  },
  {
   "cell_type": "code",
   "execution_count": 1,
   "id": "9c5e0b57",
   "metadata": {},
   "outputs": [
    {
     "data": {
      "application/vnd.jupyter.widget-view+json": {
       "model_id": "e43a1f735b7f4c9493cfa8adebb2e7b7",
       "version_major": 2,
       "version_minor": 0
      },
      "text/plain": [
       "VBox(children=(FloatText(value=0.0, description='Peso (kg):'), FloatText(value=0.0, description='Altura (m):')…"
      ]
     },
     "execution_count": 1,
     "metadata": {},
     "output_type": "execute_result"
    }
   ],
   "source": [
    "import ipywidgets as widgets\n",
    "peso = widgets.FloatText(description='Peso (kg):')\n",
    "altura = widgets.FloatText(description='Altura (m):')\n",
    "edad = widgets.IntText(description='Edad (años):')\n",
    "genero = widgets.Dropdown(description='Genero', options=['Hombre', 'Mujer'])\n",
    "actividad = widgets.Dropdown(description='Nivel de actividad', options=['Bajo', 'Medio', 'Alto'])\n",
    "objetivo = widgets.Dropdown(description='Objetivo', options=['Aumentar', 'Mantener', 'Disminuir'])\n",
    "pais = widgets.Text(description='País de residencia:')\n",
    "widgets.VBox([peso, altura, edad, genero, actividad,objetivo, pais])\n"
   ]
  },
  {
   "attachments": {},
   "cell_type": "markdown",
   "id": "c5796abe",
   "metadata": {},
   "source": [
    "Funciones para calcular el índice de masa corporal (IMC)."
   ]
  },
  {
   "cell_type": "code",
   "execution_count": 2,
   "id": "2dac7cd5",
   "metadata": {},
   "outputs": [],
   "source": [
    "peso_tmp = float(peso.value)\n",
    "altura_tmp = float(altura.value)\n",
    "\n",
    "def calcular_imc():\n",
    "    peso = peso_tmp\n",
    "    altura = altura_tmp\n",
    "    imc = peso / altura**2\n",
    "    return imc\n",
    "\n",
    "def evaluar_imc(imc):\n",
    "    if imc < 18.5:\n",
    "        return \"Bajo peso\"\n",
    "    elif imc < 25:\n",
    "        return \"Peso saludable\"\n",
    "    elif imc < 30:\n",
    "        return \"Sobrepeso\"\n",
    "    else:\n",
    "        return \"Obesidad\"\n",
    "\n"
   ]
  },
  {
   "attachments": {},
   "cell_type": "markdown",
   "id": "b383ed7a",
   "metadata": {},
   "source": [
    "Se llama a las funciones y obtenemos resultados del estado de salud."
   ]
  },
  {
   "cell_type": "code",
   "execution_count": 3,
   "id": "ab98bb4d",
   "metadata": {},
   "outputs": [
    {
     "name": "stdout",
     "output_type": "stream",
     "text": [
      "Tu IMC es: 31.25\n",
      "Evaluación: Obesidad\n"
     ]
    }
   ],
   "source": [
    "imc = calcular_imc()\n",
    "evaluacion = evaluar_imc(imc)\n",
    "print(\"Tu IMC es: {:.2f}\".format(imc))\n",
    "print(\"Evaluación: {}\".format(evaluacion))"
   ]
  },
  {
   "attachments": {},
   "cell_type": "markdown",
   "id": "01a990ee",
   "metadata": {},
   "source": [
    "# Dieta recomendada\n",
    "Se utiliza ChatGPT para que la IA nos lance una recomendación."
   ]
  },
  {
   "cell_type": "code",
   "execution_count": 4,
   "id": "a9fb228e",
   "metadata": {},
   "outputs": [],
   "source": [
    "import openai"
   ]
  },
  {
   "cell_type": "code",
   "execution_count": 5,
   "id": "42da5b36",
   "metadata": {},
   "outputs": [],
   "source": [
    "openai.api_key = \"cargarKEY\""
   ]
  },
  {
   "cell_type": "code",
   "execution_count": 6,
   "id": "0e598194",
   "metadata": {},
   "outputs": [],
   "source": [
    "def get_gpt_response(prompt, max_tokens=100):\n",
    "    prompt = f\"Answer the following question: {prompt}\\nAnswer:\"\n",
    "    response = openai.Completion.create(\n",
    "        model=\"text-davinci-003\",\n",
    "        prompt=prompt,\n",
    "        temperature=0.9,\n",
    "        max_tokens=1500,\n",
    "        top_p=1,\n",
    "        frequency_penalty=0.0,\n",
    "        presence_penalty=0.6,\n",
    "        stop=[\" Human:\", \" AI:\"]\n",
    "    )\n",
    "    return response.choices[0].text.strip()"
   ]
  },
  {
   "attachments": {},
   "cell_type": "markdown",
   "id": "1cfed342",
   "metadata": {},
   "source": [
    "Se llama a la funcion y se establece el prompt y obtenemos salida en Markdown."
   ]
  },
  {
   "cell_type": "code",
   "execution_count": 9,
   "id": "7afbff87",
   "metadata": {},
   "outputs": [
    {
     "name": "stdout",
     "output_type": "stream",
     "text": [
      "| Dia de la Semana | Desayuno | Almuerzo | Cena |\n",
      "|---|---|---|---|\n",
      "| Lunes | 2 Huevos revueltos con pan integral, un yogur descremado y un vaso de jugo natural. |Milanesa a caballo con ensalada y una manzana. | Sopa de lentejas con arroz blanco y pan. |\n",
      "| Martes | Un licuado de banana con avena y una porción de fruta. | Tiras de pollo con papas fritas y ensalada. | Risotto de verduras con una porción de carne magra. |\n",
      "| Miércoles | Galletitas de maíz con leche descremada y una porción de fruta. | Empanadas de carne con ensalada y una porción de fruta. | Bife con una porción de arroz con quinoa y una ensalada. |\n",
      "| Jueves |Muffins de trigo integral con manteca y una naranja. | Canelones de ricota y espinaca con salsa de tomate. | Ñoquis con una porción de carne y una ensalada. |\n",
      "| Viernes | Pancake de huevo con una porción de fruta. | Berenjenas rellenas de carne con ensalada. | Milanesa napolitana con puré de papas y ensalada. |\n",
      "| Sábado | Tortilla de queso con mermelada y un vaso de jugo. | Choripán con chucrut y una porción de fruta. | Asado argentino con ensalada y una porción de arroz blanco. |\n",
      "| Domingo | Tostadas de jamón con queso y una banana. | Bondiola con puré de papas y ensalada. | Locro con una porción de carne y una ensalada. |\n"
     ]
    }
   ],
   "source": [
    "prompt = \"peso \" +str(peso.value)+ \" kilos y mido \" + str(altura.value)+\", edad \"+ str(edad.value)+ \",genero \"+genero.value+ \" ,nivel de actividad fisica \"+ actividad.value + \", me das como como TABLA Markdown txt para cada dia de la semana de comidas para \"+ objetivo.value +\" de peso, soy de \"+ pais.value + \", comida del pais, , mantener formato | Dia de la Semana | Desayuno | Almuerzo | Cena \"\n",
    "response = get_gpt_response(prompt)\n",
    "print(response)"
   ]
  },
  {
   "attachments": {},
   "cell_type": "markdown",
   "id": "f195a04d",
   "metadata": {},
   "source": [
    "# Exportar a Excel \n",
    "Se exporta la tabla en Excel del menu semanal recomendado."
   ]
  },
  {
   "cell_type": "code",
   "execution_count": 10,
   "id": "d41e5bbc",
   "metadata": {},
   "outputs": [],
   "source": [
    "import openpyxl\n",
    "\n",
    "workbook = openpyxl.Workbook()\n",
    "worksheet = workbook.active\n",
    "datos = response\n",
    "filas = datos.split('\\n')\n",
    "\n",
    "for i, fila in enumerate(filas):\n",
    "    celdas = fila.split('|')\n",
    "    celdas = [celda.strip() for celda in celdas if celda.strip()]\n",
    "    for j, celda in enumerate(celdas):\n",
    "        worksheet.cell(row=i+1, column=j+1, value=celda)\n",
    "\n",
    "# Guardar el archivo de Excel\n",
    "workbook.save(\"menu_semanal.xlsx\")\n"
   ]
  }
 ],
 "metadata": {
  "kernelspec": {
   "display_name": "Python 3 (ipykernel)",
   "language": "python",
   "name": "python3"
  },
  "language_info": {
   "codemirror_mode": {
    "name": "ipython",
    "version": 3
   },
   "file_extension": ".py",
   "mimetype": "text/x-python",
   "name": "python",
   "nbconvert_exporter": "python",
   "pygments_lexer": "ipython3",
   "version": "3.8.16"
  }
 },
 "nbformat": 4,
 "nbformat_minor": 5
}
